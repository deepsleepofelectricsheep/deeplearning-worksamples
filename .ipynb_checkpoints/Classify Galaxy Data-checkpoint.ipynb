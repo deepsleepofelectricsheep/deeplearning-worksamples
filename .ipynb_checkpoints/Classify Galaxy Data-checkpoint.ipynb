{
 "cells": [
  {
   "cell_type": "markdown",
   "id": "82dddd34-c9d5-432a-8592-09fbe226496e",
   "metadata": {},
   "source": [
    "# Galaxy Optical Morphology"
   ]
  },
  {
   "cell_type": "markdown",
   "id": "1b82ae85-5206-4807-8ab9-ac66c6cc7891",
   "metadata": {},
   "source": [
    "In 1926, Edwin Hubble devised a scheme, known as the Hubble Sequence, to classify galaxies based on their visual morphology. The Hubble Sequence divides galaxies into ellipticals, spirals, irregulars and SOs, which are galaxies representing the transition between ellipticals and spirals.\n",
    "\n",
    "The Hubble Sequence matters because, as it turns out, galaxy properties vary between Hubble types. Ellipticals are on average larger, brighter, older than spirals and irregulars. The stellar kinematics of spiral galaxies reveal the existence of mysterious dark matter, one of the biggest enigmas in modern astronomy. And irregular galaxies can sometimes have surprisingly high star formation rates and violent evolutionary histories. Furthermore, the relative abundance of galaxies of different types through the universe's history can help us understand how the universe evolved."
   ]
  },
  {
   "cell_type": "markdown",
   "id": "70af321c-bb01-411f-b035-10621cfafeac",
   "metadata": {},
   "source": [
    "# Galaxy Classification"
   ]
  },
  {
   "cell_type": "markdown",
   "id": "30c9b6dc-9f4a-42e8-8266-630874a0eb4c",
   "metadata": {},
   "source": [
    "As part of this project I aim to create a neural network algorithm to classify galaxies. I will be using the Galaxy10 dataset, created using manually labelled data from the Galazy Zoo project where volunteers manually classified ~18,000 galaxy images into ten classes, inspired by the Hubble Sequence. I will build a convolutional neural network classifier, one that is specially designed to handle image data."
   ]
  },
  {
   "cell_type": "code",
   "execution_count": null,
   "id": "00309d87-509c-448b-a636-57bd71b70a6d",
   "metadata": {},
   "outputs": [],
   "source": [
    "# Load required packages\n",
    "from astroNN.datasets.galaxy10 import galaxy10cls_lookup\n",
    "from sklearn.model_selection import train_test_split\n",
    "from astroNN.datasets import load_galaxy10\n",
    "from tensorflow.keras import utils\n",
    "import matplotlib.pyplot as plt\n",
    "import tensorflow as tf\n",
    "import pkg_resources\n",
    "import pandas as pd\n",
    "import numpy as np\n",
    "import random\n",
    "import keras\n",
    "import os"
   ]
  },
  {
   "cell_type": "code",
   "execution_count": null,
   "id": "d877ba1f-a51b-49d2-956b-2d7f94946402",
   "metadata": {},
   "outputs": [],
   "source": [
    "# To load images and labels (will download automatically at the first time)\n",
    "# First time downloading location will be ~/.astroNN/datasets/\n",
    "images, labels = load_galaxy10()\n",
    "\n",
    "# To convert the labels to categorical 10 classes\n",
    "labels_categorical = utils.to_categorical(labels, 10)\n",
    "\n",
    "# To convert to desirable type\n",
    "labels_categorical = labels_categorical.astype(np.float32)\n",
    "images = images.astype(np.float32)"
   ]
  }
 ],
 "metadata": {
  "kernelspec": {
   "display_name": "Python 3 (ipykernel)",
   "language": "python",
   "name": "python3"
  },
  "language_info": {
   "codemirror_mode": {
    "name": "ipython",
    "version": 3
   },
   "file_extension": ".py",
   "mimetype": "text/x-python",
   "name": "python",
   "nbconvert_exporter": "python",
   "pygments_lexer": "ipython3",
   "version": "3.12.9"
  }
 },
 "nbformat": 4,
 "nbformat_minor": 5
}
